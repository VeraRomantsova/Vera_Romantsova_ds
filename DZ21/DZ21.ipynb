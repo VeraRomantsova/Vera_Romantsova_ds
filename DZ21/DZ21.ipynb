{
 "cells": [
  {
   "cell_type": "markdown",
   "metadata": {},
   "source": [
    "### 1. Найдите минимально необходимый объем выборки для построения интервальной оценки среднего с точностью ∆ = 3, дисперсией σ^2 = 225 и уровнем доверия β = 0.95."
   ]
  },
  {
   "cell_type": "code",
   "execution_count": 2,
   "metadata": {},
   "outputs": [],
   "source": [
    "import numpy as np\n",
    "import pandas as pd\n",
    "import scipy.stats as stats\n",
    "import numpy as np\n",
    "import math\n",
    "import matplotlib.pyplot as plt"
   ]
  },
  {
   "cell_type": "code",
   "execution_count": 42,
   "metadata": {},
   "outputs": [
    {
     "data": {
      "text/plain": [
       "97"
      ]
     },
     "execution_count": 42,
     "metadata": {},
     "output_type": "execute_result"
    }
   ],
   "source": [
    "var = 225\n",
    "sigma = math.sqrt(var) # Стандартное отклонение\n",
    "Z = stats.norm.ppf((1+0.95)/2)\n",
    "e = 3 # Погрешность\n",
    "\n",
    "N = ((sigma*Z)/e)**2 #Находим минимальный объем выборки\n",
    "math.ceil(N) #Округляем, так как это человек (а не 1,5 землекопа)"
   ]
  },
  {
   "cell_type": "markdown",
   "metadata": {},
   "source": [
    "### 2. Вам даны две выборки роста мужчин и женщин. Докажите, используя t-Тест Стьдента, что различия между выборками незначительно, если уровень значимости равен 0.001"
   ]
  },
  {
   "cell_type": "code",
   "execution_count": 3,
   "metadata": {},
   "outputs": [
    {
     "name": "stdout",
     "output_type": "stream",
     "text": [
      "t=3.143, p=0.002\n"
     ]
    }
   ],
   "source": [
    "alpha = 0.0005 #Используем Two-sample T-test\n",
    "#Нулевая гипотеза: различия между выборками незначительны # Альтернативная гипотеза: различия между выборками существенны\n",
    "population_men  =stats.norm.rvs(loc=19,scale=171,size=11000000)  # Выборка мужчин со средним ростом 171\n",
    "population_women =stats.norm.rvs(loc=16,scale=165,size=12000)  # Выборка женщин со средним ростом 165\n",
    "from scipy.stats import ttest_ind\n",
    "stat, p_value = ttest_ind(population_men,population_women, equal_var = False) #Делаем поправку, что дисперсии неодинаковы\n",
    "print('t=%.3f, p=%.3f' % (stat, p_value))"
   ]
  },
  {
   "cell_type": "code",
   "execution_count": 4,
   "metadata": {},
   "outputs": [
    {
     "name": "stdout",
     "output_type": "stream",
     "text": [
      "Принимаем гипотезу о незначительности различий выборок\n"
     ]
    }
   ],
   "source": [
    "# interpret via p-value\n",
    "if p_value > alpha:\n",
    "    print('Принимаем гипотезу о незначительности различий выборок')\n",
    "else:\n",
    "    print('Отвергаем гипотезу о незначительности различий выборок')"
   ]
  },
  {
   "cell_type": "markdown",
   "metadata": {},
   "source": [
    "### 3. Определите объем необходимой выборки для исследования среднего чека за кофе в случайном городе, если известно, что в этом городе стандартное отклонение = 150, уровень доверия = 95%. Погрешность 50 рублей. "
   ]
  },
  {
   "cell_type": "code",
   "execution_count": 46,
   "metadata": {},
   "outputs": [
    {
     "data": {
      "text/plain": [
       "35"
      ]
     },
     "execution_count": 46,
     "metadata": {},
     "output_type": "execute_result"
    }
   ],
   "source": [
    "sigma = 150 # Стандартное отклонение\n",
    "Z = stats.norm.ppf((1+0.95)/2)\n",
    "e = 50 # Погрешность\n",
    "N = ((sigma*Z)/e)**2 #Находим минимальный объем выборки\n",
    "math.ceil(N) #Округляем, так как кол-во чеков - дискретная величина"
   ]
  },
  {
   "cell_type": "markdown",
   "metadata": {},
   "source": [
    "### 4. Представьте, что вы хотите разоблачить \"волшебника\", который считает, что умеет предсказывать погоду на завтра. Отвечая просто: дождь или солнце. Вы пронаблюдали за ответами \"волшебника\" в течении какого периода времени и получили такие результаты (см.ниже). Можно ли сказать, что маг действительно умеет предсказывать погоду, если уровнь значимости принять за 0.05 ?"
   ]
  },
  {
   "cell_type": "code",
   "execution_count": 26,
   "metadata": {},
   "outputs": [
    {
     "data": {
      "text/html": [
       "<div>\n",
       "<style scoped>\n",
       "    .dataframe tbody tr th:only-of-type {\n",
       "        vertical-align: middle;\n",
       "    }\n",
       "\n",
       "    .dataframe tbody tr th {\n",
       "        vertical-align: top;\n",
       "    }\n",
       "\n",
       "    .dataframe thead th {\n",
       "        text-align: right;\n",
       "    }\n",
       "</style>\n",
       "<table border=\"1\" class=\"dataframe\">\n",
       "  <thead>\n",
       "    <tr style=\"text-align: right;\">\n",
       "      <th></th>\n",
       "      <th>Ответ волшебника</th>\n",
       "      <th>Реальность</th>\n",
       "    </tr>\n",
       "  </thead>\n",
       "  <tbody>\n",
       "    <tr>\n",
       "      <th>Дождь</th>\n",
       "      <td>14</td>\n",
       "      <td>36</td>\n",
       "    </tr>\n",
       "    <tr>\n",
       "      <th>Солнце</th>\n",
       "      <td>15</td>\n",
       "      <td>45</td>\n",
       "    </tr>\n",
       "  </tbody>\n",
       "</table>\n",
       "</div>"
      ],
      "text/plain": [
       "        Ответ волшебника  Реальность\n",
       "Дождь                 14          36\n",
       "Солнце                15          45"
      ]
     },
     "execution_count": 26,
     "metadata": {},
     "output_type": "execute_result"
    }
   ],
   "source": [
    "observations = pd.DataFrame([[14,36],[15,45]],\n",
    "                            index=['Дождь','Солнце'],\n",
    "                            columns=['Ответ волшебника','Реальность'])\n",
    "observations"
   ]
  },
  {
   "cell_type": "code",
   "execution_count": 48,
   "metadata": {},
   "outputs": [
    {
     "name": "stdout",
     "output_type": "stream",
     "text": [
      "p-value=0.890018, significance=0.05\n",
      "\n",
      "На уровне значимости 0.05 , мы принимаем нулевую гипотезу. \n",
      "            Различия между ответом волшебника и реальностью незначительны.\n"
     ]
    }
   ],
   "source": [
    "#Нулевая гипотеза: различия между ответом волшебника и реальностью незначительны \n",
    "#Альтернативная гипотеза: различия между ответом волшебника и реальностью существенны\n",
    "from scipy.stats import chi2_contingency\n",
    "chi, pval, dof, exp = stats.chi2_contingency(observations)\n",
    "significance = 0.05 #задаем уровень значимости\n",
    "print('p-value=%.6f, significance=%.2f\\n' % (pval, significance))\n",
    "\n",
    "\n",
    "if pval < significance:\n",
    "    print(\"\"\"На уровне значимости %.2f , мы отвергаем нулевую гипотезу и принимаем H1. \n",
    "            Различия между ответом волшебника и реальностью значительны.\"\"\" % (significance))\n",
    "else:\n",
    "    print(\"\"\"На уровне значимости %.2f , мы принимаем нулевую гипотезу. \n",
    "            Различия между ответом волшебника и реальностью незначительны.\"\"\" % (significance))"
   ]
  },
  {
   "cell_type": "markdown",
   "metadata": {},
   "source": [
    "### 5. Используя функцию mean_confidence_interval(data, confidence), постройте доверительный интервал с уровнем доверия 90% для выборки:\n",
    "data = [1,5,8,9,6,7,5,6,7,8,5,6,7,0,9,8,4,6,7,9,8,6,5,7,8,9,6,7,5,8,6,7,9,5]"
   ]
  },
  {
   "cell_type": "code",
   "execution_count": 69,
   "metadata": {},
   "outputs": [],
   "source": [
    "data_1 = [1,5,8,9,6,7,5,6,7,8,5,6,7,0,9,8,4,6,7,9,8,6,5,7,8,9,6,7,5,8,6,7,9,5]"
   ]
  },
  {
   "cell_type": "code",
   "execution_count": 91,
   "metadata": {},
   "outputs": [
    {
     "name": "stdout",
     "output_type": "stream",
     "text": [
      "(6.338600762316752, 6.4411764705882355, 6.543752178859719)\n"
     ]
    }
   ],
   "source": [
    "# Функция, которая строит доверительный интервал\n",
    "\n",
    "def mean_confidence_interval(data, confidence=0.95): #По умолчанию указан уровень доверия 0,95\n",
    "    \"\"\"Находим доверительный интервал через квантиль Стьюдента с степенью свободы n-1\"\"\"\n",
    "    n = len(data)\n",
    "    m, se = np.mean(data), stats.sem(data)\n",
    "    h = (se / math.sqrt(n))* stats.t.ppf((1 + confidence)/2, n)\n",
    "    return m-h,m, m+h #выводит значение лев границы дов интервала,хсреднего, прав границы дов интервала\n",
    "\n",
    "print(mean_confidence_interval(data_1, 0.9)) #Указываем уровень доверия = 0.9"
   ]
  },
  {
   "cell_type": "code",
   "execution_count": 81,
   "metadata": {},
   "outputs": [
    {
     "name": "stdout",
     "output_type": "stream",
     "text": [
      "6.433553537952351 6.4411764705882355 6.44879940322412\n"
     ]
    }
   ],
   "source": [
    "#Расчет вручную (z-score)\n",
    "len(data_1) # 35>30 => можно использовать z-score\n",
    "np.mean(data_1) #находим среднее\n",
    "len(data_1) #Находим кол-во элементов в выборке\n",
    "stats.sem(data_1) #Находим СКО\n",
    "Z = stats.norm.ppf((1+0.9)/2) #Находим Z-score (можно по таблице найдя в ней значение 0,95 - тогда перечесение названий стб и стр - 1,65)\n",
    "delta = (stats.sem(data_1) / math.sqrt(len(data_1)))*Z\n",
    "m_low = np.mean(data_1) - delta #нижнее значение доверительного интервала\n",
    "m_high = np.mean(data_1) + delta #верхнее значение доверительного интервала\n",
    "print(m_low,np.mean(data_1),m_high)"
   ]
  },
  {
   "cell_type": "code",
   "execution_count": 89,
   "metadata": {},
   "outputs": [
    {
     "name": "stdout",
     "output_type": "stream",
     "text": [
      "6.338600762316752 6.4411764705882355 6.543752178859719\n"
     ]
    }
   ],
   "source": [
    "#Расчет вручную (t-критерий, т.к. выборка небольшая)\n",
    "n = len(data_1)\n",
    "np.mean(data_1) #находим среднее\n",
    "len(data_1) #Находим кол-во элементов в выборке\n",
    "stats.sem(data_1) #Находим СКО\n",
    "t = stats.t.ppf((1+0.9)/2,n) #Находим t-квантиль распределения Стьюдента со степенью свободы n-1\n",
    "delta = (stats.sem(data_1) / math.sqrt(len(data_1)))*t\n",
    "m_low = np.mean(data_1) - delta #нижнее значение доверительного интервала\n",
    "m_high = np.mean(data_1) + delta #верхнее значение доверительного интервала\n",
    "print(m_low,np.mean(data_1),m_high)"
   ]
  },
  {
   "cell_type": "markdown",
   "metadata": {},
   "source": [
    "### 6. Принадлежит ли выборка data_1 и data_2 одному множеству? Оцените это с помощью известных вам тестов проверки гипотез."
   ]
  },
  {
   "cell_type": "code",
   "execution_count": 6,
   "metadata": {},
   "outputs": [],
   "source": [
    "data_1 = [4,5,8,9,6,7,5,6,7,8,5,6,7,0,9,8,4,6,7,9,8,6,5,7,8,9,6,7,5,8,6,7,9,5,10]\n",
    "data_2 = [8,5,6,7,0,1,8,4,6,7,0,2,6,5,7,5,3,5,3,5,3,5,5,8,7,6,4,5,3,5,4,6,4,5,3,2,6,4,2,6,1,0,4,3,5,4,3,4,5,4,3,4,5,4,3,4,5,3,4,4,1,2,4,3,1,2,4,3,2,1,5,3,4,6,4,5,3,2,4,5,6,4,3,1,3,5,3,4,4,4,2,5,3]"
   ]
  },
  {
   "cell_type": "code",
   "execution_count": 7,
   "metadata": {},
   "outputs": [
    {
     "data": {
      "text/plain": [
       "Ttest_indResult(statistic=7.068404675178226, pvalue=2.4974180382616264e-09)"
      ]
     },
     "execution_count": 7,
     "metadata": {},
     "output_type": "execute_result"
    }
   ],
   "source": [
    "#Используем Двух-выборочный T-test (Две выборки), чтобы проверить имеют ли две выборки данных разные средние значения. \n",
    "#Здесь мы принимаем нулевую гипотезу о том, что обе группы имеют равные средние.\n",
    "stats.ttest_ind(a=data_1,b=data_2,equal_var=False) #Ставим equal_var=False чтобы сделать поправку на разные значения n в выборках"
   ]
  },
  {
   "cell_type": "code",
   "execution_count": 8,
   "metadata": {},
   "outputs": [],
   "source": [
    "# Итак, мы видим, что у нас есть менее 0.000000249% шансов найти равенство между образцами."
   ]
  },
  {
   "cell_type": "code",
   "execution_count": 9,
   "metadata": {},
   "outputs": [
    {
     "name": "stdout",
     "output_type": "stream",
     "text": [
      "6.628571428571429 3.967741935483871\n"
     ]
    }
   ],
   "source": [
    "print(np.mean(data_1),np.mean(data_2))"
   ]
  },
  {
   "cell_type": "code",
   "execution_count": 10,
   "metadata": {},
   "outputs": [
    {
     "data": {
      "text/plain": [
       "array([[<matplotlib.axes._subplots.AxesSubplot object at 0x0000023186480A90>]],\n",
       "      dtype=object)"
      ]
     },
     "execution_count": 10,
     "metadata": {},
     "output_type": "execute_result"
    },
    {
     "data": {
      "image/png": "[encoded data removed]",
      "text/plain": [
       "<Figure size 432x288 with 1 Axes>"
      ]
     },
     "metadata": {
      "needs_background": "light"
     },
     "output_type": "display_data"
    }
   ],
   "source": [
    "pd.DataFrame(data_1).hist(bins=10)"
   ]
  },
  {
   "cell_type": "code",
   "execution_count": 11,
   "metadata": {},
   "outputs": [
    {
     "data": {
      "text/plain": [
       "array([[<matplotlib.axes._subplots.AxesSubplot object at 0x0000023186BD9760>]],\n",
       "      dtype=object)"
      ]
     },
     "execution_count": 11,
     "metadata": {},
     "output_type": "execute_result"
    },
    {
     "data": {
      "image/png": "[encoded data removed]",
      "text/plain": [
       "<Figure size 432x288 with 1 Axes>"
      ]
     },
     "metadata": {
      "needs_background": "light"
     },
     "output_type": "display_data"
    }
   ],
   "source": [
    "pd.DataFrame(data_2).hist(bins=10)"
   ]
  },
  {
   "cell_type": "markdown",
   "metadata": {},
   "source": [
    "### 7. На примере датасета про жилье в New York City, мы сталкивались с примером, когда переменная имеет не совсем нормальное распределение.\n",
    "Предположим, Вы сформировали две гипотезы: Нулевая гипотеза - распределение нормальное, Альтернативная гипотеза - распределение не нормальное.\n",
    "Допустим, вы применили какой-то тест (сейчас неважно какой), который показал уровень значимости (p-value) = 0.03. Каковы будут ваши выводы? Будем считать что у нас нормальное распределение или все-таки нет? Вопрос без подвоха)"
   ]
  },
  {
   "cell_type": "markdown",
   "metadata": {},
   "source": [
    "Ответ: p-value – это как-бы «жизнеспособность» нулевой гипотезы, которую мы оцениваем по имеющимся данным. \n",
    "В нашем случае вероятность того, что значения цен на жилье, действительно распределены нормально, и есть p-value. \n",
    "Иными словами, чем меньше значение p, тем сильнее аргументы против нулевой гипотезы. Традиционно полагают, если p-value 0.05,\n",
    "то аргументов достаточно, чтобы отвергнуть нулевую гипотезу. Наше значение p = 0.03 и мы отвергаем нулевую гипотезу, что данные распределены \n",
    "нормально"
   ]
  },
  {
   "cell_type": "markdown",
   "metadata": {},
   "source": [
    "### 8. Первая выборка — это пациенты, которых лечили препаратом А.  Вторая выборка — пациенты, которых лечили препаратом Б. Значения в выборках — это некоторая характеристика эффективности лечения (уровень метаболита в крови, температура через три дня после начала лечения, срок выздоровления, число койко-дней, и т.д.) \n",
    "\n",
    "#### а) Требуется выяснить, имеется ли значимое различие эффективности препаратов А и Б, или различия являются чисто случайными и объясняются «естественной» дисперсией выбранной характеристики?  (уровень значимости принять за 5% или 0.05)\n",
    "\n",
    "#### b) При каком минимальном P-values различия были бы уже значимы? "
   ]
  },
  {
   "cell_type": "code",
   "execution_count": 12,
   "metadata": {},
   "outputs": [],
   "source": [
    "np.random.seed(11)\n",
    "A = stats.norm.rvs(scale=50,loc=10,size=300)\n",
    "B = A+stats.norm.rvs(scale=10,loc=-1.25,size=300)\n",
    "\n",
    "#Ваш код:\n",
    "# Подсказка, обратити внимание на Two-sample T-test"
   ]
  },
  {
   "cell_type": "code",
   "execution_count": 13,
   "metadata": {},
   "outputs": [
    {
     "data": {
      "text/plain": [
       "array([[<matplotlib.axes._subplots.AxesSubplot object at 0x0000023186DDDD30>]],\n",
       "      dtype=object)"
      ]
     },
     "execution_count": 13,
     "metadata": {},
     "output_type": "execute_result"
    },
    {
     "data": {
      "image/png": "[encoded data removed]",
      "text/plain": [
       "<Figure size 432x288 with 1 Axes>"
      ]
     },
     "metadata": {
      "needs_background": "light"
     },
     "output_type": "display_data"
    },
    {
     "data": {
      "image/png": "[encoded data removed]",
      "text/plain": [
       "<Figure size 432x288 with 1 Axes>"
      ]
     },
     "metadata": {
      "needs_background": "light"
     },
     "output_type": "display_data"
    }
   ],
   "source": [
    "pd.DataFrame(A).hist(bins=120)\n",
    "pd.DataFrame(B).hist(bins=120)"
   ]
  },
  {
   "cell_type": "code",
   "execution_count": 14,
   "metadata": {},
   "outputs": [
    {
     "data": {
      "text/plain": [
       "Ttest_indResult(statistic=0.33196234898293125, pvalue=0.7400341626811637)"
      ]
     },
     "execution_count": 14,
     "metadata": {},
     "output_type": "execute_result"
    }
   ],
   "source": [
    "# Нулевая гипотеза: различия в эффективности препаратов незначительны\n",
    "# Альтернативная гипотеза: различия в эффективности препаратов значительны\n",
    "alpha = 0.05\n",
    "stats.ttest_ind(a=A,b=B,equal_var=False)"
   ]
  },
  {
   "cell_type": "code",
   "execution_count": 15,
   "metadata": {},
   "outputs": [
    {
     "name": "stdout",
     "output_type": "stream",
     "text": [
      "Отвергаем гипотезу о незначительности различий выборок\n"
     ]
    }
   ],
   "source": [
    "# interpret via p-value\n",
    "if p_value > alpha:\n",
    "    print('Принимаем гипотезу о незначительности различий выборок')\n",
    "else:\n",
    "    print('Отвергаем гипотезу о незначительности различий выборок')"
   ]
  },
  {
   "cell_type": "markdown",
   "metadata": {},
   "source": [
    "Ответ 1: Значение 0,74 говорит о том, что существует вероятность 74% того, что выборочные данные для двух \n",
    "идентичных групп не сильно различаются (мы принимаем нулевую гипотезу). Это больше, чем уровень значимости 5%.\n",
    "Ответ 2: В случае, если бы p_value = уровень значимости, т.е. p_value = 0.05 различия были бы уже значимы."
   ]
  }
 ],
 "metadata": {
  "kernelspec": {
   "display_name": "Python 3",
   "language": "python",
   "name": "python3"
  },
  "language_info": {
   "codemirror_mode": {
    "name": "ipython",
    "version": 3
   },
   "file_extension": ".py",
   "mimetype": "text/x-python",
   "name": "python",
   "nbconvert_exporter": "python",
   "pygments_lexer": "ipython3",
   "version": "3.8.3"
  }
 },
 "nbformat": 4,
 "nbformat_minor": 4
}
