{
 "cells": [
  {
   "cell_type": "code",
   "execution_count": 1,
   "metadata": {},
   "outputs": [],
   "source": [
    "# 1. Переведите содержимое файла purchase.log в словарь purchases\n",
    "# with open('purchase_log.txt', encoding = 'utf-8') as f:\n",
    "#     print([next(f) for x in range (5)])\n",
    "import json\n",
    "i = 0\n",
    "purchases = {}\n",
    "with open('purchase_log.txt', encoding = 'utf-8') as f:\n",
    "    next(f)\n",
    "    for line in f:\n",
    "        dict_ = json.loads(line.strip())\n",
    "        purchases[dict_['user_id']] = dict_['category']"
   ]
  },
  {
   "cell_type": "code",
   "execution_count": 3,
   "metadata": {},
   "outputs": [],
   "source": [
    "# 2. Для каждого user_id в файле visit_log.csv определите третий столбец с категорией покупки \n",
    "#(если покупка была, сам файл visit_log.csv изменять не надо).\n",
    "# Запишите в файл funnel.csv визиты из файла visit_log.csv, в которых были покупки с указанием категории\n",
    "\n",
    "with open('visit_log.csv', encoding = 'utf-8') as f2:\n",
    "    with open('funnel.csv', 'w') as f3write:\n",
    "        next(f2)\n",
    "        f3write.write('user_id,source,category\\n')\n",
    "        for line in f2:\n",
    "            line = line.strip().split(',')\n",
    "            if line[0] in purchases: #записываю в funnel лишь те визиты, в которых были покупки\n",
    "                f3write.write(f'{line[0]},{line[1]},{purchases.get(line[0])}\\n')"
   ]
  },
  {
   "cell_type": "code",
   "execution_count": null,
   "metadata": {},
   "outputs": [],
   "source": []
  }
 ],
 "metadata": {
  "kernelspec": {
   "display_name": "Python 3",
   "language": "python",
   "name": "python3"
  },
  "language_info": {
   "codemirror_mode": {
    "name": "ipython",
    "version": 3
   },
   "file_extension": ".py",
   "mimetype": "text/x-python",
   "name": "python",
   "nbconvert_exporter": "python",
   "pygments_lexer": "ipython3",
   "version": "3.8.3"
  }
 },
 "nbformat": 4,
 "nbformat_minor": 4
}
