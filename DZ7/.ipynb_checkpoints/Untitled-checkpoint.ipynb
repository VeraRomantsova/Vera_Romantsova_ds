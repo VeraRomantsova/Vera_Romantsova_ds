{
 "cells": [
  {
   "cell_type": "code",
   "execution_count": 8,
   "metadata": {},
   "outputs": [
    {
     "data": {
      "text/plain": [
       "datetime.datetime(1977, 8, 18, 0, 0)"
      ]
     },
     "execution_count": 8,
     "metadata": {},
     "output_type": "execute_result"
    }
   ],
   "source": [
    "# Задание 1 Печатные газеты использовали свой формат дат для каждого выпуска. \n",
    "# Для каждой газеты из списка напишите формат указанной даты для перевода в объект datetime:\n",
    "# The Moscow Times - Wednesday, October 2, 2002\n",
    "# The Guardian - Friday, 11.10.13\n",
    "# Daily News - Thursday, 18 August 1977\n",
    "\n",
    "The_Moscow_Times_datef = 'Wednesday, October 2, 2002'\n",
    "The_Guardian_datef = 'Friday, 11.10.13' #принятый формат даты в Великобритании DD/MM/YYYY\n",
    "Daily_Newsf = 'Thursday, 18 August 1977' #принятый формат даты в США MM-DD-YYYY\n",
    "The_Moscow_Times_datedt = dt.strptime(The_Moscow_Times_datef, '%A, %B %d, %Y')\n",
    "\n",
    "The_Guardian_datedt = dt.strptime(The_Guardian_datef, '%A, %d.%m.%y')\n",
    "\n",
    "Daily_News_datedt = dt.strptime(Daily_Newsf, '%A, %d %B %Y')\n"
   ]
  },
  {
   "cell_type": "code",
   "execution_count": 28,
   "metadata": {},
   "outputs": [
    {
     "name": "stdout",
     "output_type": "stream",
     "text": [
      "2018-04-02 - дата корректна\n",
      "2018-02-29 - дата некорректна\n",
      "2018-19-02 - дата некорректна\n"
     ]
    }
   ],
   "source": [
    "# Задание 2 Дан поток дат в формате YYYY-MM-DD, в которых встречаются некорректные значения:\n",
    "#stream = [‘2018-04-02’, ‘2018-02-29’, ‘2018-19-02’]\n",
    "#Напишите функцию, которая проверяет эти даты на корректность. \n",
    "#Т. е. для каждой даты возвращает True (дата корректна) или False (некорректная дата).\n",
    " \n",
    "stream = ['2018-04-02','2018-02-29','2018-19-02']\n",
    "for date in stream:\n",
    "    try: \n",
    "        dt.strptime(date, '%Y-%m-%d')\n",
    "        print(f'{date} - дата корректна')\n",
    "    except:\n",
    "        print(f'{date} - дата некорректна') # В т.ч.возвращает некорректную дату если 29 февраля в невисокосном году"
   ]
  },
  {
   "cell_type": "code",
   "execution_count": 57,
   "metadata": {},
   "outputs": [
    {
     "name": "stdout",
     "output_type": "stream",
     "text": [
      "Введите дату начала в формате YYYY-MM-DD 1984-10-10\n",
      "Введите дату окончания в формате YYYY-MM-DD 1984-10-22\n"
     ]
    },
    {
     "data": {
      "text/plain": [
       "['1984-10-10',\n",
       " '1984-10-11',\n",
       " '1984-10-12',\n",
       " '1984-10-13',\n",
       " '1984-10-14',\n",
       " '1984-10-15',\n",
       " '1984-10-16',\n",
       " '1984-10-17',\n",
       " '1984-10-18',\n",
       " '1984-10-19',\n",
       " '1984-10-20',\n",
       " '1984-10-21',\n",
       " '1984-10-22']"
      ]
     },
     "execution_count": 57,
     "metadata": {},
     "output_type": "execute_result"
    }
   ],
   "source": [
    "# Задание 3\n",
    "#Напишите функцию date_range, которая возвращает список дат за период от start_date до end_date. \n",
    "#Даты должны вводиться в формате YYYY-MM-DD. \n",
    "#В случае неверного формата или при start_date > end_date должен возвращаться пустой список.\n",
    "from datetime import timedelta\n",
    "def date_range():\n",
    "    start_date = input('Введите дату начала в формате YYYY-MM-DD ') #Пользователь задает дату начала\n",
    "    end_date = input('Введите дату окончания в формате YYYY-MM-DD ') #Пользователь задает дату окончания\n",
    "    day_list = []\n",
    "    if start_date < end_date:\n",
    "        try:\n",
    "            start_d = dt.strptime(start_date, '%Y-%m-%d') #Проверяем даты на корректность\n",
    "            end_d = dt.strptime(end_date, '%Y-%m-%d')\n",
    "            while start_d <= end_d:\n",
    "                day_list.append(start_d.strftime('%Y-%m-%d')) #Наращиваем даты в списке с даты начала до даты окончания\n",
    "                start_d += timedelta(days=1)\n",
    "            return(day_list)\n",
    "        except:\n",
    "            print(day_list)\n",
    "    else:print(day_list)\n",
    "date_range()"
   ]
  },
  {
   "cell_type": "code",
   "execution_count": 21,
   "metadata": {},
   "outputs": [
    {
     "name": "stdout",
     "output_type": "stream",
     "text": [
      "['A100', 'A101']\n",
      "['A100']\n"
     ]
    },
    {
     "ename": "IndexError",
     "evalue": "list index out of range",
     "output_type": "error",
     "traceback": [
      "\u001b[1;31m---------------------------------------------------------------------------\u001b[0m",
      "\u001b[1;31mIndexError\u001b[0m                                Traceback (most recent call last)",
      "\u001b[1;32m<ipython-input-21-a7ea8b14334d>\u001b[0m in \u001b[0;36m<module>\u001b[1;34m\u001b[0m\n\u001b[0;32m     26\u001b[0m \u001b[1;31m# Почему при первом запуске функция работает корректно, а при втором - нет?\u001b[0m\u001b[1;33m\u001b[0m\u001b[1;33m\u001b[0m\u001b[1;33m\u001b[0m\u001b[0m\n\u001b[0;32m     27\u001b[0m \u001b[0mdelete_and_return_last_user\u001b[0m\u001b[1;33m(\u001b[0m\u001b[1;36m1\u001b[0m\u001b[1;33m)\u001b[0m\u001b[1;33m\u001b[0m\u001b[1;33m\u001b[0m\u001b[0m\n\u001b[1;32m---> 28\u001b[1;33m \u001b[0mdelete_and_return_last_user\u001b[0m\u001b[1;33m(\u001b[0m\u001b[1;36m1\u001b[0m\u001b[1;33m)\u001b[0m\u001b[1;33m\u001b[0m\u001b[1;33m\u001b[0m\u001b[0m\n\u001b[0m",
      "\u001b[1;32m<ipython-input-21-a7ea8b14334d>\u001b[0m in \u001b[0;36mdelete_and_return_last_user\u001b[1;34m(region, default_list)\u001b[0m\n\u001b[0;32m     13\u001b[0m     \u001b[0mprint\u001b[0m\u001b[1;33m(\u001b[0m\u001b[0mdefault_list\u001b[0m\u001b[1;33m)\u001b[0m\u001b[1;33m\u001b[0m\u001b[1;33m\u001b[0m\u001b[0m\n\u001b[0;32m     14\u001b[0m \u001b[1;33m\u001b[0m\u001b[0m\n\u001b[1;32m---> 15\u001b[1;33m     \u001b[1;32mreturn\u001b[0m \u001b[0mdefault_list\u001b[0m\u001b[1;33m[\u001b[0m\u001b[0mDEFAULT_USER_COUNT\u001b[0m\u001b[1;33m-\u001b[0m\u001b[1;36m2\u001b[0m\u001b[1;33m]\u001b[0m\u001b[1;33m\u001b[0m\u001b[1;33m\u001b[0m\u001b[0m\n\u001b[0m\u001b[0;32m     16\u001b[0m \u001b[1;33m\u001b[0m\u001b[0m\n\u001b[0;32m     17\u001b[0m \u001b[1;31m# При однократном вызове этой функции все работает корректно:\u001b[0m\u001b[1;33m\u001b[0m\u001b[1;33m\u001b[0m\u001b[1;33m\u001b[0m\u001b[0m\n",
      "\u001b[1;31mIndexError\u001b[0m: list index out of range"
     ]
    }
   ],
   "source": [
    "# Задание 4 (бонусное)\n",
    "# Ваш коллега прислал код функции:\n",
    "\n",
    "DEFAULT_USER_COUNT = 3\n",
    "\n",
    "def delete_and_return_last_user(region, default_list=['A100', 'A101', 'A102']):\n",
    "    \"\"\"\n",
    "    Удаляет из списка default_list последнего пользователя\n",
    "    и возвращает ID нового последнего пользователя.\n",
    "    \"\"\"\n",
    "    element_to_delete = default_list[-1]\n",
    "    default_list.remove(element_to_delete)\n",
    "\n",
    "    return default_list[DEFAULT_USER_COUNT-2]\n",
    "\n",
    "# При однократном вызове этой функции все работает корректно:\n",
    "# delete_and_return_last_user(1)\n",
    "# ‘A101’\n",
    "\n",
    "# Однако, при повторном вызове получается ошибка IndexError: list index out of range.\n",
    "\n",
    "# Задание:\n",
    "\n",
    "# Что значит ошибка list index out of range?\n",
    "# Почему при первом запуске функция работает корректно, а при втором - нет?\n",
    "delete_and_return_last_user(1)\n",
    "delete_and_return_last_user(1)"
   ]
  },
  {
   "cell_type": "markdown",
   "metadata": {},
   "source": [
    "Ответ на задание 4: \n",
    "    1.Обращение к индексу списка, которого в списке нет\n",
    "    2. ошибка возникает оттого, что при каждом вызове функции уменьшается сам список,\n",
    "    при первом запуске список default_list с тремя элементами уменьшился на один элемент \n",
    "    и их в списке осталось 2, элемент с индексом [1] еще был\n",
    "    при втором запуске получается, что элемента с индексом [1] в списке уже нет, так как в списке остался только один\n",
    "    элемент. При вызове функции дважды в одной ячейке значение переменной default_list не пересоздается, \n",
    "    а устанавливается равным получившемуся при первом вызове значению\n",
    "    \n",
    "        "
   ]
  }
 ],
 "metadata": {
  "kernelspec": {
   "display_name": "Python 3",
   "language": "python",
   "name": "python3"
  },
  "language_info": {
   "codemirror_mode": {
    "name": "ipython",
    "version": 3
   },
   "file_extension": ".py",
   "mimetype": "text/x-python",
   "name": "python",
   "nbconvert_exporter": "python",
   "pygments_lexer": "ipython3",
   "version": "3.8.3"
  }
 },
 "nbformat": 4,
 "nbformat_minor": 4
}
