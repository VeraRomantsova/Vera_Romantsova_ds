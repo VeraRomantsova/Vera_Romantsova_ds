{
 "cells": [
  {
   "cell_type": "markdown",
   "metadata": {},
   "source": [
    "Задание 1\n",
    "Даны 2 переменных, в которых хранятся строки произвольной длины: phrase_1 и phrase_2.\n",
    "Напишите код, который проверяет какая из этих строк длиннее."
   ]
  },
  {
   "cell_type": "code",
   "execution_count": 11,
   "metadata": {},
   "outputs": [
    {
     "name": "stdout",
     "output_type": "stream",
     "text": [
      "Введите первую строкуkfjg\n",
      "Введите вторую строкуdfdfhg\n",
      "Вторая строка длиннее\n"
     ]
    }
   ],
   "source": [
    "x=input('Введите первую фразу')\n",
    "y=input('Введите вторую фразу')\n",
    "if len(x)>len(y):\n",
    "         print('Фраза 1 длиннее фразы 2')\n",
    "elif len(y)>len(x):\n",
    "         print('Фраза 2 длиннее фразы 1')\n",
    "else:\n",
    "         print('Фразы равной длины')\n",
    "\n"
   ]
  },
  {
   "cell_type": "markdown",
   "metadata": {},
   "source": [
    "Задание 2\n",
    "Дана переменная, в которой хранится четырехзначное число (год). Необходимо написать программу, которая выведет, является ли данный год високосным или обычным."
   ]
  },
  {
   "cell_type": "code",
   "execution_count": 1,
   "metadata": {},
   "outputs": [
    {
     "name": "stdout",
     "output_type": "stream",
     "text": [
      "Високосный год\n"
     ]
    }
   ],
   "source": [
    "year=2020\n",
    "if year % 4 == 0:\n",
    "    print('Високосный год')\n",
    "else:\n",
    "    print('Обычный год')"
   ]
  },
  {
   "cell_type": "markdown",
   "metadata": {},
   "source": [
    "Задание 3\n",
    "Необходимо написать программу, которая будет запрашивать у пользователя месяц и дату рождения и выводить соответствующий знак зодиака."
   ]
  },
  {
   "cell_type": "code",
   "execution_count": 4,
   "metadata": {},
   "outputs": [
    {
     "name": "stdout",
     "output_type": "stream",
     "text": [
      "Введите месяц Вашего рождения10\n",
      "Введите день Вашего рождения15\n",
      "Ваш знак зодиака - Весы\n"
     ]
    }
   ],
   "source": [
    "month=int(input('Введите месяц Вашего рождения'))\n",
    "day=int(input('Введите день Вашего рождения'))\n",
    "if (month==3 and day>=21 and day<=31) or (month==4 and day>=1 and day<=19):\n",
    "         print('Ваш знак зодиака - Овен')\n",
    "elif (month==4 and day>=20 and day<=30) or (month==5 and day>=1 and day<=20):\n",
    "         print('Ваш знак зодиака - Телец')\n",
    "elif (month==5 and day>=21 and day<=31) or (month==6 and day>=1 and day<=20):\n",
    "         print('Ваш знак зодиака - Близнецы')\n",
    "elif (month==6 and day>=21 and day<=30) or (month==7 and day>=1 and day<=22):\n",
    "         print('Ваш знак зодиака - Рак')\n",
    "elif (month==7 and day>=23 and day<=31) or (month==8 and day>=1 and day<=22):\n",
    "         print('Ваш знак зодиака - Лев')\n",
    "elif (month==8 and day>=23 and day<=31) or (month==9 and day>=1 and day<=22):\n",
    "         print('Ваш знак зодиака - Дева')\n",
    "elif (month==9 and day>=23 and day<=30) or (month==10 and day>=1 and day<=22):\n",
    "         print('Ваш знак зодиака - Весы')\n",
    "elif (month==10 and day>=23 and day<=31) or (month==11 and day>=1 and day<=21):\n",
    "         print('Ваш знак зодиака - Скорпион')\n",
    "elif (month==11 and day>=22 and day<=30) or (month==12 and day>=1 and day<=21):\n",
    "         print('Ваш знак зодиака - Стрелец')\n",
    "elif (month==12 and day>=22 and day<=31) or (month==1 and day>=1 and day<=19):\n",
    "         print('Ваш знак зодиака - Козерог')\n",
    "elif (month==1 and day>=20 and day<=31) or (month==2 and day>=1 and day<=18):\n",
    "         print('Ваш знак зодиака - Водолей')\n",
    "elif (month==2 and day>=19 and day<=29) or (month==3 and day>=1 and day<=20):\n",
    "         print('Ваш знак зодиака - Рыбы')\n",
    "else:\n",
    "         print('Ваш ошиблись, проверьте дату и месяц Вашего рождения')"
   ]
  },
  {
   "cell_type": "markdown",
   "metadata": {},
   "source": [
    "Вам нужно написать программу для подбора упаковок по размерам товара. Размеры хранятся в переменных (в сантиметрах):\n",
    "\n",
    "width = 10\n",
    "length = 205\n",
    "height = 5\n",
    "Используйте следующие правила:\n",
    "\n",
    "если каждое из трех измерений менее 15 сантиметров, то выведите на экран \"Коробка №1\";\n",
    "если хотя бы одно из измерений больше 15 сантиметров, но менее 50 сантиметров, то выводите \"Коробка №2\";\n",
    "если длина товара больше 2 метров, то выводите \"Упаковка для лыж\";\n",
    "во всех остальных случаях выводите \"Стандартная коробка №3\"."
   ]
  },
  {
   "cell_type": "code",
   "execution_count": 10,
   "metadata": {},
   "outputs": [
    {
     "name": "stdout",
     "output_type": "stream",
     "text": [
      "Упаковка для лыж\n"
     ]
    }
   ],
   "source": [
    "width = 10\n",
    "length = 205\n",
    "height = 5\n",
    "if width<15 and length<15 and height<15:\n",
    "         print('Коробка №1')\n",
    "elif (width>=15 and width<50) or (length>=15 and length<50) or (height>=15 and height<50):\n",
    "         print('Коробка №2')\n",
    "elif length>=200:\n",
    "         print('Упаковка для лыж')    \n",
    "else:\n",
    "         print('Стандартная коробка №3')"
   ]
  },
  {
   "cell_type": "markdown",
   "metadata": {},
   "source": [
    "Задание 5 (необязательное)\n",
    "Дана переменная, в которой хранится шестизначное число (номер проездного билета). Напишите программу, которая будет определять, является ли данный билет \"счастливым\". Билет считается счастливым, если сумма первых трех цифр совпадает с суммой последних трех цифр номера."
   ]
  },
  {
   "cell_type": "code",
   "execution_count": 41,
   "metadata": {},
   "outputs": [
    {
     "name": "stdout",
     "output_type": "stream",
     "text": [
      "Введите шестизначный номер билета12345\n",
      "Номер билета введен неверно\n"
     ]
    }
   ],
   "source": [
    "ticket=int(input('Введите шестизначный номер билета: '))\n",
    "x6=ticket%10\n",
    "x1=ticket//100000\n",
    "x2=(ticket//10000)%10\n",
    "x3=(ticket//1000)%10\n",
    "x4=(ticket//100)%10\n",
    "x5=(ticket//10)%10\n",
    "if len(str(ticket))==6:\n",
    "    if (x1+x2+x3)==(x4+x5+x6):\n",
    "        print('Счастливый билет')\n",
    "    else:\n",
    "        print('Несчастливый билет')\n",
    "else:\n",
    "    print('Номер билета введен неверно')\n",
    "    "
   ]
  },
  {
   "cell_type": "markdown",
   "metadata": {},
   "source": [
    "Задание 6 (необязательное)\n",
    "Напишите программу, которая сможет вычислять площади трех фигур (круг, треугольник и прямоугольник). Тип фигуры запрашиваем через пользовательский ввод, после чего делаем запрос характеристик фигуры:\n",
    "если пользователь выбрал круг, запрашиваем его радиус,\n",
    "если треугольник – длины трех его сторон;\n",
    "если прямоугольник – длины двух его сторон."
   ]
  },
  {
   "cell_type": "code",
   "execution_count": 74,
   "metadata": {},
   "outputs": [
    {
     "name": "stdout",
     "output_type": "stream",
     "text": [
      "Введите название одной из фигур: круг,треугольник,прямоугольник: треугольник\n",
      "Введите первую длину треугольника в см: 2\n",
      "Введите вторую длину треугольника в см: 2\n",
      "Введите третью длину треугольника в см: 2\n",
      "Площадь фигуры равна:  1.2599210498948732 см2\n"
     ]
    }
   ],
   "source": [
    "shape=input('Введите название одной из фигур: круг,треугольник,прямоугольник: ')\n",
    "if shape=='круг':\n",
    "    radius=int(input('Введите радиус круга в см'))\n",
    "    print('Площадь фигуры равна: ',(radius**2)*3.1415,'см2')\n",
    "elif shape=='треугольник':\n",
    "    a=int(input('Введите первую длину треугольника в см: '))\n",
    "    b=int(input('Введите вторую длину треугольника в см: '))\n",
    "    с=int(input('Введите третью длину треугольника в см: '))\n",
    "    p=(a+b+c)/2\n",
    "    print('Площадь фигуры равна: ',float((2**(1/(p*(p-a)*(p-b)*(p-c))))),'см2')\n",
    "elif shape=='прямоугольник':\n",
    "    d=int(input('Введите первую длину прямоугольника в см: '))\n",
    "    e=int(input('Введите вторую длину прямоугольника в см: '))\n",
    "    print('Площадь фигуры равна: ',d*e,'см2')\n",
    "else: \n",
    "    print('В названии фигуры допущена ошибка, либо такой фигуры в программе нет')"
   ]
  }
 ],
 "metadata": {
  "kernelspec": {
   "display_name": "Python 3",
   "language": "python",
   "name": "python3"
  },
  "language_info": {
   "codemirror_mode": {
    "name": "ipython",
    "version": 3
   },
   "file_extension": ".py",
   "mimetype": "text/x-python",
   "name": "python",
   "nbconvert_exporter": "python",
   "pygments_lexer": "ipython3",
   "version": "3.8.3"
  }
 },
 "nbformat": 4,
 "nbformat_minor": 4
}
