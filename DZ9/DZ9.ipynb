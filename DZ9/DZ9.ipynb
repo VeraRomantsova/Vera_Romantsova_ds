{
 "cells": [
  {
   "cell_type": "code",
   "execution_count": 94,
   "metadata": {},
   "outputs": [
    {
     "name": "stdout",
     "output_type": "stream",
     "text": [
      "Введите номер транспортного средства А234АА54\n",
      "Номер транспортного средства: А234АА валиден Регион: 54\n"
     ]
    }
   ],
   "source": [
    "# Задание 1\n",
    "#Напишите функцию, которая принимает на вход строку и проверяет является ли она валидным транспортным номером \n",
    "#(1 буква, 3 цифры, 2 буквы, 2-3 цифры). \n",
    "#Обратите внимание, что не все буквы кириллического алфавита используются в транспортных номерах.\n",
    "#Если номер валиден, то функция должна возвращать отдельно номер и регион.\n",
    "import re\n",
    "\n",
    "number = input('Введите номер транспортного средства ')\n",
    "regex_check = r'([АВЕКМНОРСТУХ]{1}\\d{3}[АВЕКМНОРСТУХ]{2})(\\d{2,3})'\n",
    "if regex_check:\n",
    "    check_result = re.search(regex_check,number)\n",
    "    if check_result is None:\n",
    "        print('Номер не валиден')\n",
    "    else:\n",
    "        print(f'Номер транспортного средства: {check_result.group(1)} валиден Регион: {check_result.group(2)}')\n",
    "else:\n",
    "    print('Номер не валиден')"
   ]
  },
  {
   "cell_type": "code",
   "execution_count": 95,
   "metadata": {},
   "outputs": [
    {
     "name": "stdout",
     "output_type": "stream",
     "text": [
      "Напишите функцию, которая будет удалять все последовательные повторы слов из заданной строки при помощи регулярных выражений.\n"
     ]
    }
   ],
   "source": [
    "# Задание 2\n",
    "# Напишите функцию, которая будет удалять все последовательные повторы слов из заданной строки при помощи регулярных выражений.\n",
    "some_string = 'Напишите функцию функцию, которая будет будет будет будет удалять все все все все последовательные повторы слов из из из из заданной строки строки при помощи регулярных выражений.'\n",
    "print(re.sub(r'(\\b\\w+\\b)(\\s+\\1)+', r'\\1' ,some_string))"
   ]
  },
  {
   "cell_type": "code",
   "execution_count": 136,
   "metadata": {},
   "outputs": [
    {
     "name": "stdout",
     "output_type": "stream",
     "text": [
      "ИТ\n"
     ]
    }
   ],
   "source": [
    "# Задание 3\n",
    "# Напишите функцию, которая будет возвращать акроним по переданной в нее строке со словами.\n",
    "some_words = 'Информационные технологии'\n",
    "print(''.join(re.findall(r'(\\b[а-яА-ЯёЁa-zA-Z])',some_words)).upper())"
   ]
  },
  {
   "cell_type": "code",
   "execution_count": 143,
   "metadata": {},
   "outputs": [
    {
     "name": "stdout",
     "output_type": "stream",
     "text": [
      "{'gmail.com': 2, 'test.in': 1, 'ya.ru': 2, 'mail.ru': 1}\n"
     ]
    }
   ],
   "source": [
    "# Задание 4\n",
    "# Напишите функцию, которая будет принимать на вход список email-адресов и выводить их распределение по доменным зонам.\n",
    "emails = ['test@gmail.com', 'xyz@test.in', 'test@ya.ru', 'xyz@mail.ru', 'xyz@ya.ru', 'xyz@gmail.com']\n",
    "result = {}\n",
    "for mail in emails:\n",
    "    if re.split(r'\\@',mail)[1] not in result:\n",
    "        result[re.split(r'\\@',mail)[1]] = 1\n",
    "    else:\n",
    "        result[re.split(r'\\@',mail)[1]] += 1\n",
    "print(result)        "
   ]
  },
  {
   "cell_type": "code",
   "execution_count": 193,
   "metadata": {},
   "outputs": [
    {
     "name": "stdout",
     "output_type": "stream",
     "text": [
      "Слов на гласные буквы: 9\n",
      "Слов на согласные буквы: 21\n"
     ]
    }
   ],
   "source": [
    "# Задание 5 (необязательное)\n",
    "# Напишите функцию, которая будет подсчитывать сколько слов начинается на гласные, а сколько на согласные буквы в тексте (текст может быть написан как с использованием букв кириллицы, так и латиницы).\n",
    "some_text = 'Эталонной реализацией Python является интерпретатор CPython, поддерживающий большинство активно используемых платформ. Он распространяется под свободной лицензией Python Software Foundation License, позволяющей использовать его без ограничений в любых приложениях, включая проприетарные.'\n",
    "vowel = re.findall(r'\\b[аеёиоуыэюяaeiouAEЁИОУЫЭЮЯAEIOU]\\S+\\b', some_text)\n",
    "consonants = re.findall(r'\\b[бвгджзйклмнпрстфхцчшщbcdfghjklmnpqrstvwxyzБВГДЖЗЙКЛМНПРСТФХЦЧШЩBCDFGHJKLMNPQRSTVWXYZ]\\S*\\b', some_text)\n",
    "print(f'Слов на гласные буквы: {len(vowel)}')\n",
    "print(f'Слов на согласные буквы: {len(consonants)}')"
   ]
  },
  {
   "cell_type": "code",
   "execution_count": 192,
   "metadata": {},
   "outputs": [
    {
     "name": "stdout",
     "output_type": "stream",
     "text": [
      "['реализацией', 'Python', 'CPython', 'поддерживающий', 'большинство', 'платформ', 'распространяется', 'под', 'свободной', 'лицензией', 'Python', 'Software', 'Foundation', 'License', 'позволяющей', 'без', 'в', 'любых', 'приложениях', 'включая', 'проприетарные']\n",
      "['Эталонной', 'является', 'интерпретатор', 'активно', 'используемых', 'Он', 'использовать', 'его', 'ограничений']\n",
      "Слов на гласные буквы: 9\n",
      "Слов на согласные буквы: 21\n"
     ]
    }
   ],
   "source": [
    "vowel = re.findall(r'\\b[аеёиоуыэюяaeiouAEЁИОУЫЭЮЯAEIOU]\\S+\\b', some_text)\n",
    "consonants = re.findall(r'\\b[бвгджзйклмнпрстфхцчшщbcdfghjklmnpqrstvwxyzБВГДЖЗЙКЛМНПРСТФХЦЧШЩBCDFGHJKLMNPQRSTVWXYZ]\\S*\\b', some_text)\n",
    "print(f'Слов на гласные буквы: {len(vowel)}')\n",
    "print(f'Слов на согласные буквы: {len(consonants)}')"
   ]
  },
  {
   "cell_type": "code",
   "execution_count": 302,
   "metadata": {},
   "outputs": [
    {
     "name": "stdout",
     "output_type": "stream",
     "text": [
      "Номер не валиден\n"
     ]
    }
   ],
   "source": [
    "# Задание 6 (необязательное)\n",
    "# Напишите функцию, которая будет проверять номер сотового телефона на валидность (только для российского формата), \n",
    "# если он валиден, то переводить его в формат: +7-xxx-xxx-xx-xx\n",
    "phone = '423-555-55-5555'\n",
    "phone_pattern = r'(8|\\+7|7)[\\-\\(\\ ]*(\\d{3})[\\-\\)\\ ]*[\\-\\(\\ ]*(\\d{3})[\\-\\(\\ ]*(\\d{2})[\\-\\(\\ ]*(\\d{2})$'\n",
    "re.findall(phone_pattern,phone)\n",
    "if re.findall(phone_pattern,phone):\n",
    "    print(re.sub(phone_pattern, r'+7-\\2-\\3-\\4-\\5' ,phone))\n",
    "else:\n",
    "    print('Номер не валиден')"
   ]
  }
 ],
 "metadata": {
  "kernelspec": {
   "display_name": "Python 3",
   "language": "python",
   "name": "python3"
  },
  "language_info": {
   "codemirror_mode": {
    "name": "ipython",
    "version": 3
   },
   "file_extension": ".py",
   "mimetype": "text/x-python",
   "name": "python",
   "nbconvert_exporter": "python",
   "pygments_lexer": "ipython3",
   "version": "3.8.3"
  }
 },
 "nbformat": 4,
 "nbformat_minor": 4
}
