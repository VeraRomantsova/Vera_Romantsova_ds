{
 "cells": [
  {
   "cell_type": "code",
   "execution_count": 1,
   "metadata": {},
   "outputs": [],
   "source": [
    "# Задание 1\n",
    "# Скачайте с сайта https://grouplens.org/datasets/movielens/ датасет любого размера.\n",
    "# Определите какому фильму было выставлено больше всего оценок 5.0.\n",
    "import pandas as pd"
   ]
  },
  {
   "cell_type": "code",
   "execution_count": 7,
   "metadata": {},
   "outputs": [
    {
     "data": {
      "text/html": [
       "<div>\n",
       "<style scoped>\n",
       "    .dataframe tbody tr th:only-of-type {\n",
       "        vertical-align: middle;\n",
       "    }\n",
       "\n",
       "    .dataframe tbody tr th {\n",
       "        vertical-align: top;\n",
       "    }\n",
       "\n",
       "    .dataframe thead th {\n",
       "        text-align: right;\n",
       "    }\n",
       "</style>\n",
       "<table border=\"1\" class=\"dataframe\">\n",
       "  <thead>\n",
       "    <tr style=\"text-align: right;\">\n",
       "      <th></th>\n",
       "      <th>userId</th>\n",
       "      <th>movieId</th>\n",
       "      <th>rating</th>\n",
       "      <th>timestamp</th>\n",
       "    </tr>\n",
       "  </thead>\n",
       "  <tbody>\n",
       "    <tr>\n",
       "      <th>0</th>\n",
       "      <td>1</td>\n",
       "      <td>1</td>\n",
       "      <td>4.0</td>\n",
       "      <td>964982703</td>\n",
       "    </tr>\n",
       "    <tr>\n",
       "      <th>1</th>\n",
       "      <td>1</td>\n",
       "      <td>3</td>\n",
       "      <td>4.0</td>\n",
       "      <td>964981247</td>\n",
       "    </tr>\n",
       "    <tr>\n",
       "      <th>2</th>\n",
       "      <td>1</td>\n",
       "      <td>6</td>\n",
       "      <td>4.0</td>\n",
       "      <td>964982224</td>\n",
       "    </tr>\n",
       "    <tr>\n",
       "      <th>3</th>\n",
       "      <td>1</td>\n",
       "      <td>47</td>\n",
       "      <td>5.0</td>\n",
       "      <td>964983815</td>\n",
       "    </tr>\n",
       "    <tr>\n",
       "      <th>4</th>\n",
       "      <td>1</td>\n",
       "      <td>50</td>\n",
       "      <td>5.0</td>\n",
       "      <td>964982931</td>\n",
       "    </tr>\n",
       "  </tbody>\n",
       "</table>\n",
       "</div>"
      ],
      "text/plain": [
       "   userId  movieId  rating  timestamp\n",
       "0       1        1     4.0  964982703\n",
       "1       1        3     4.0  964981247\n",
       "2       1        6     4.0  964982224\n",
       "3       1       47     5.0  964983815\n",
       "4       1       50     5.0  964982931"
      ]
     },
     "execution_count": 7,
     "metadata": {},
     "output_type": "execute_result"
    }
   ],
   "source": [
    "data = pd.read_csv('ratings.csv')\n",
    "data.head() #Открываю файл и смотрю названия столбцов"
   ]
  },
  {
   "cell_type": "code",
   "execution_count": 28,
   "metadata": {},
   "outputs": [
    {
     "data": {
      "text/plain": [
       "movieId\n",
       "318     153\n",
       "296     123\n",
       "356     116\n",
       "2571    109\n",
       "260     104\n",
       "       ... \n",
       "6006      1\n",
       "6021      1\n",
       "6051      1\n",
       "6059      1\n",
       "3917      1\n",
       "Length: 2954, dtype: int64"
      ]
     },
     "execution_count": 28,
     "metadata": {},
     "output_type": "execute_result"
    }
   ],
   "source": [
    "data.query('rating == 5.0').groupby('movieId').apply(len).sort_values(ascending = False) #Выбираю только фильмы с оценками 5.0, группирую по фильму, "
   ]
  },
  {
   "cell_type": "code",
   "execution_count": 2,
   "metadata": {},
   "outputs": [
    {
     "data": {
      "text/html": [
       "<div>\n",
       "<style scoped>\n",
       "    .dataframe tbody tr th:only-of-type {\n",
       "        vertical-align: middle;\n",
       "    }\n",
       "\n",
       "    .dataframe tbody tr th {\n",
       "        vertical-align: top;\n",
       "    }\n",
       "\n",
       "    .dataframe thead th {\n",
       "        text-align: right;\n",
       "    }\n",
       "</style>\n",
       "<table border=\"1\" class=\"dataframe\">\n",
       "  <thead>\n",
       "    <tr style=\"text-align: right;\">\n",
       "      <th></th>\n",
       "      <th>country</th>\n",
       "      <th>year</th>\n",
       "      <th>quantity</th>\n",
       "      <th>category</th>\n",
       "    </tr>\n",
       "  </thead>\n",
       "  <tbody>\n",
       "    <tr>\n",
       "      <th>0</th>\n",
       "      <td>Austria</td>\n",
       "      <td>1996</td>\n",
       "      <td>5.0</td>\n",
       "      <td>1</td>\n",
       "    </tr>\n",
       "    <tr>\n",
       "      <th>1</th>\n",
       "      <td>Austria</td>\n",
       "      <td>1995</td>\n",
       "      <td>17.0</td>\n",
       "      <td>1</td>\n",
       "    </tr>\n",
       "    <tr>\n",
       "      <th>2</th>\n",
       "      <td>Belgium</td>\n",
       "      <td>2014</td>\n",
       "      <td>0.0</td>\n",
       "      <td>1</td>\n",
       "    </tr>\n",
       "    <tr>\n",
       "      <th>3</th>\n",
       "      <td>Belgium</td>\n",
       "      <td>2013</td>\n",
       "      <td>0.0</td>\n",
       "      <td>1</td>\n",
       "    </tr>\n",
       "    <tr>\n",
       "      <th>4</th>\n",
       "      <td>Belgium</td>\n",
       "      <td>2012</td>\n",
       "      <td>35.0</td>\n",
       "      <td>1</td>\n",
       "    </tr>\n",
       "  </tbody>\n",
       "</table>\n",
       "</div>"
      ],
      "text/plain": [
       "   country  year  quantity  category\n",
       "0  Austria  1996       5.0         1\n",
       "1  Austria  1995      17.0         1\n",
       "2  Belgium  2014       0.0         1\n",
       "3  Belgium  2013       0.0         1\n",
       "4  Belgium  2012      35.0         1"
      ]
     },
     "execution_count": 2,
     "metadata": {},
     "output_type": "execute_result"
    }
   ],
   "source": [
    "# Задание 2\n",
    "# По данным файла power.csv посчитайте суммарное потребление стран Прибалтики (Латвия, Литва и Эстония) \n",
    "# категорий 4, 12 и 21 за период с 2005 по 2010 года. \n",
    "#Не учитывайте в расчетах отрицательные значения quantity.\n",
    "data = pd.read_csv('power.csv')\n",
    "data.head() #Открываю файл и смотрю названия столбцов"
   ]
  },
  {
   "cell_type": "code",
   "execution_count": 18,
   "metadata": {},
   "outputs": [],
   "source": [
    "def baltic(country):\n",
    "    \"\"\" Возвращает Прибалтика, если это Литва, Латвия и Эстония и Other для других стран\"\"\"\n",
    "    if country in ['Lithuania','Latvia','Estonia']:\n",
    "        return 'Прибалтика'\n",
    "    return 'Other'"
   ]
  },
  {
   "cell_type": "code",
   "execution_count": 56,
   "metadata": {},
   "outputs": [
    {
     "data": {
      "text/html": [
       "<div>\n",
       "<style scoped>\n",
       "    .dataframe tbody tr th:only-of-type {\n",
       "        vertical-align: middle;\n",
       "    }\n",
       "\n",
       "    .dataframe tbody tr th {\n",
       "        vertical-align: top;\n",
       "    }\n",
       "\n",
       "    .dataframe thead th {\n",
       "        text-align: right;\n",
       "    }\n",
       "</style>\n",
       "<table border=\"1\" class=\"dataframe\">\n",
       "  <thead>\n",
       "    <tr style=\"text-align: right;\">\n",
       "      <th></th>\n",
       "      <th>country</th>\n",
       "      <th>year</th>\n",
       "      <th>quantity</th>\n",
       "      <th>category</th>\n",
       "      <th>baltic</th>\n",
       "    </tr>\n",
       "  </thead>\n",
       "  <tbody>\n",
       "    <tr>\n",
       "      <th>10617</th>\n",
       "      <td>Estonia</td>\n",
       "      <td>2008</td>\n",
       "      <td>1.0</td>\n",
       "      <td>4</td>\n",
       "      <td>Прибалтика</td>\n",
       "    </tr>\n",
       "    <tr>\n",
       "      <th>10620</th>\n",
       "      <td>Estonia</td>\n",
       "      <td>2005</td>\n",
       "      <td>1.0</td>\n",
       "      <td>4</td>\n",
       "      <td>Прибалтика</td>\n",
       "    </tr>\n",
       "    <tr>\n",
       "      <th>11156</th>\n",
       "      <td>Lithuania</td>\n",
       "      <td>2008</td>\n",
       "      <td>1.0</td>\n",
       "      <td>4</td>\n",
       "      <td>Прибалтика</td>\n",
       "    </tr>\n",
       "    <tr>\n",
       "      <th>11158</th>\n",
       "      <td>Lithuania</td>\n",
       "      <td>2006</td>\n",
       "      <td>1.0</td>\n",
       "      <td>4</td>\n",
       "      <td>Прибалтика</td>\n",
       "    </tr>\n",
       "    <tr>\n",
       "      <th>11159</th>\n",
       "      <td>Lithuania</td>\n",
       "      <td>2005</td>\n",
       "      <td>1.0</td>\n",
       "      <td>4</td>\n",
       "      <td>Прибалтика</td>\n",
       "    </tr>\n",
       "  </tbody>\n",
       "</table>\n",
       "</div>"
      ],
      "text/plain": [
       "         country  year  quantity  category      baltic\n",
       "10617    Estonia  2008       1.0         4  Прибалтика\n",
       "10620    Estonia  2005       1.0         4  Прибалтика\n",
       "11156  Lithuania  2008       1.0         4  Прибалтика\n",
       "11158  Lithuania  2006       1.0         4  Прибалтика\n",
       "11159  Lithuania  2005       1.0         4  Прибалтика"
      ]
     },
     "execution_count": 56,
     "metadata": {},
     "output_type": "execute_result"
    }
   ],
   "source": [
    "# Вариант 1 - через заданные заранее списки\n",
    "data['baltic'] = data.country.apply(baltic)\n",
    "list_year = [2005,2006,2007,2008,2009,2010] #- задали список лет, по которому нужно отфильтровать\n",
    "list_category = [4,12,21] - #- задали список лет, по которому нужно отфильтровать\n",
    "data_no_negative2 = data.query(f'(quantity > 0) & (year in {list_year}) & (category in {list_category}) & (baltic == \"Прибалтика\")')\n",
    "data_no_negative2.head()"
   ]
  },
  {
   "cell_type": "code",
   "execution_count": 55,
   "metadata": {},
   "outputs": [
    {
     "data": {
      "text/plain": [
       "5943"
      ]
     },
     "execution_count": 55,
     "metadata": {},
     "output_type": "execute_result"
    }
   ],
   "source": [
    "data_no_negative2.category.sum()"
   ]
  },
  {
   "cell_type": "code",
   "execution_count": 65,
   "metadata": {},
   "outputs": [
    {
     "data": {
      "text/plain": [
       "5943"
      ]
     },
     "execution_count": 65,
     "metadata": {},
     "output_type": "execute_result"
    }
   ],
   "source": [
    "# Вариант 2 - списки внутри запроса (неудобен - если списки сильно большие, например год с 1970 по 2020)\n",
    "data_no_negative3 = data.query(f'(quantity > 0) & (year == [2005,2006,2007,2008,2009,2010]) & (category in [4,12,21]) & (baltic == \"Прибалтика\")')\n",
    "data_no_negative3.head()\n",
    "data_no_negative3.category.sum()"
   ]
  },
  {
   "cell_type": "code",
   "execution_count": 91,
   "metadata": {},
   "outputs": [
    {
     "data": {
      "text/html": [
       "<div>\n",
       "<style scoped>\n",
       "    .dataframe tbody tr th:only-of-type {\n",
       "        vertical-align: middle;\n",
       "    }\n",
       "\n",
       "    .dataframe tbody tr th {\n",
       "        vertical-align: top;\n",
       "    }\n",
       "\n",
       "    .dataframe thead th {\n",
       "        text-align: right;\n",
       "    }\n",
       "</style>\n",
       "<table border=\"1\" class=\"dataframe\">\n",
       "  <thead>\n",
       "    <tr style=\"text-align: right;\">\n",
       "      <th></th>\n",
       "      <th>NaN</th>\n",
       "      <th>Рубль</th>\n",
       "      <th>Предложение</th>\n",
       "      <th>Спрос</th>\n",
       "      <th>Предыдущее закрытие</th>\n",
       "      <th>%</th>\n",
       "      <th>Абсолютное значение</th>\n",
       "      <th>Время</th>\n",
       "    </tr>\n",
       "  </thead>\n",
       "  <tbody>\n",
       "    <tr>\n",
       "      <th>1</th>\n",
       "      <td>NaN</td>\n",
       "      <td>EUR/RUB</td>\n",
       "      <td>92,8765</td>\n",
       "      <td>-</td>\n",
       "      <td>92,3280</td>\n",
       "      <td>0,59 %</td>\n",
       "      <td>0,5485</td>\n",
       "      <td>18:19:00</td>\n",
       "    </tr>\n",
       "    <tr>\n",
       "      <th>7</th>\n",
       "      <td>NaN</td>\n",
       "      <td>EUR/USD</td>\n",
       "      <td>1,1735</td>\n",
       "      <td>-</td>\n",
       "      <td>1,1665</td>\n",
       "      <td>0,60 %</td>\n",
       "      <td>0,0071</td>\n",
       "      <td>18:19:00</td>\n",
       "    </tr>\n",
       "    <tr>\n",
       "      <th>8</th>\n",
       "      <td>NaN</td>\n",
       "      <td>EUR/GBP</td>\n",
       "      <td>0,9135</td>\n",
       "      <td>-</td>\n",
       "      <td>0,9085</td>\n",
       "      <td>0,56 %</td>\n",
       "      <td>0,0051</td>\n",
       "      <td>18:19:00</td>\n",
       "    </tr>\n",
       "    <tr>\n",
       "      <th>9</th>\n",
       "      <td>NaN</td>\n",
       "      <td>EUR/JPY</td>\n",
       "      <td>123,9715</td>\n",
       "      <td>-</td>\n",
       "      <td>123,0850</td>\n",
       "      <td>0,72 %</td>\n",
       "      <td>0,8865</td>\n",
       "      <td>18:19:00</td>\n",
       "    </tr>\n",
       "    <tr>\n",
       "      <th>10</th>\n",
       "      <td>NaN</td>\n",
       "      <td>EUR/CHF</td>\n",
       "      <td>1,0815</td>\n",
       "      <td>-</td>\n",
       "      <td>1,0788</td>\n",
       "      <td>0,25 %</td>\n",
       "      <td>0,0028</td>\n",
       "      <td>18:19:00</td>\n",
       "    </tr>\n",
       "    <tr>\n",
       "      <th>28</th>\n",
       "      <td>NaN</td>\n",
       "      <td>EUR/CHF</td>\n",
       "      <td>1,0815</td>\n",
       "      <td>-</td>\n",
       "      <td>1,0788</td>\n",
       "      <td>0,25 %</td>\n",
       "      <td>0,0028</td>\n",
       "      <td>18:19:00</td>\n",
       "    </tr>\n",
       "    <tr>\n",
       "      <th>32</th>\n",
       "      <td>NaN</td>\n",
       "      <td>EUR/UAH</td>\n",
       "      <td>33,2629</td>\n",
       "      <td>-</td>\n",
       "      <td>32,9727</td>\n",
       "      <td>0,88 %</td>\n",
       "      <td>0,2901</td>\n",
       "      <td>18:20:00</td>\n",
       "    </tr>\n",
       "  </tbody>\n",
       "</table>\n",
       "</div>"
      ],
      "text/plain": [
       "    NaN    Рубль Предложение Спрос Предыдущее закрытие       %  \\\n",
       "1   NaN  EUR/RUB     92,8765     -             92,3280  0,59 %   \n",
       "7   NaN  EUR/USD      1,1735     -              1,1665  0,60 %   \n",
       "8   NaN  EUR/GBP      0,9135     -              0,9085  0,56 %   \n",
       "9   NaN  EUR/JPY    123,9715     -            123,0850  0,72 %   \n",
       "10  NaN  EUR/CHF      1,0815     -              1,0788  0,25 %   \n",
       "28  NaN  EUR/CHF      1,0815     -              1,0788  0,25 %   \n",
       "32  NaN  EUR/UAH     33,2629     -             32,9727  0,88 %   \n",
       "\n",
       "   Абсолютное значение     Время  \n",
       "1               0,5485  18:19:00  \n",
       "7               0,0071  18:19:00  \n",
       "8               0,0051  18:19:00  \n",
       "9               0,8865  18:19:00  \n",
       "10              0,0028  18:19:00  \n",
       "28              0,0028  18:19:00  \n",
       "32              0,2901  18:20:00  "
      ]
     },
     "execution_count": 91,
     "metadata": {},
     "output_type": "execute_result"
    }
   ],
   "source": [
    "# Задание 3\n",
    "# Выберите страницу любого сайта с табличными данными. Импортируйте таблицы в pandas dataframe.\n",
    "# Примеры страниц (необязательно брать именно эти): \n",
    "# https://fortrader.org/quotes\n",
    "# https://www.finanz.ru/valyuty/v-realnom-vremeni\n",
    "df = pd.read_html('https://www.finanz.ru/valyuty/v-realnom-vremeni', thousands='.', encoding='utf-8')[1]\n",
    "df = df.rename(columns={'Unnamed: 0': 'NaN'}) #Переименовываю столбец\n",
    "df_RUB = df[df['Рубль'].str.contains('/RUB')] #Делаю DF только с котировками рубля, поэтому обрезаю остальное\n",
    "df_EUR = df[df['Рубль'].str.contains('EUR/')] #Делаю DF только с котировками eвро, поэтому обрезаю остальное\n",
    "\n",
    "df_EUR"
   ]
  },
  {
   "cell_type": "code",
   "execution_count": null,
   "metadata": {},
   "outputs": [],
   "source": []
  }
 ],
 "metadata": {
  "kernelspec": {
   "display_name": "Python 3",
   "language": "python",
   "name": "python3"
  },
  "language_info": {
   "codemirror_mode": {
    "name": "ipython",
    "version": 3
   },
   "file_extension": ".py",
   "mimetype": "text/x-python",
   "name": "python",
   "nbconvert_exporter": "python",
   "pygments_lexer": "ipython3",
   "version": "3.8.3"
  }
 },
 "nbformat": 4,
 "nbformat_minor": 4
}
